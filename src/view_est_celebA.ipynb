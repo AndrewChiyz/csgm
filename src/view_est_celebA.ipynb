{
 "cells": [
  {
   "cell_type": "code",
   "execution_count": null,
   "metadata": {
    "collapsed": false
   },
   "outputs": [],
   "source": [
    "import pickle as pkl\n",
    "import numpy as np\n",
    "import glob\n",
    "\n",
    "import celebA_input\n",
    "import celebA_utils\n",
    "import utils\n",
    "\n",
    "import matplotlib.pyplot as plt\n",
    "%matplotlib inline\n",
    "from matplotlib.backends.backend_pdf import PdfPages"
   ]
  },
  {
   "cell_type": "code",
   "execution_count": null,
   "metadata": {
    "collapsed": true
   },
   "outputs": [],
   "source": [
    "class Hparams():\n",
    "    pass"
   ]
  },
  {
   "cell_type": "code",
   "execution_count": null,
   "metadata": {
    "collapsed": true
   },
   "outputs": [],
   "source": [
    "hparams = Hparams()\n",
    "hparams.input_type = 'full-input'\n",
    "hparams.num_input_images = 128\n",
    "hparams.image_matrix = 0\n",
    "hparams.image_shape = (64, 64, 3)\n",
    "hparams.n_input = np.prod(hparams.image_shape)\n",
    "\n",
    "xs_dict = celebA_input.model_input(hparams)"
   ]
  },
  {
   "cell_type": "code",
   "execution_count": null,
   "metadata": {
    "collapsed": false
   },
   "outputs": [],
   "source": [
    "start = 20\n",
    "stop = 30\n",
    "assert start >= 0\n",
    "assert stop <= hparams.num_input_images\n",
    "images_nums = list(range(start, stop))"
   ]
  },
  {
   "cell_type": "code",
   "execution_count": null,
   "metadata": {
    "collapsed": true
   },
   "outputs": [],
   "source": [
    "def view(patterns, images_nums, hparams, **kws):\n",
    "    x_hats_dict = {}\n",
    "    for model_type, pattern in zip(hparams.model_types, patterns):\n",
    "        outfiles = [pattern.format(i) for i in images_nums]\n",
    "        x_hats_dict[model_type] = {i: 2*plt.imread(outfile)-1 for i, outfile in enumerate(outfiles)}\n",
    "    xs_dict_temp = {i : xs_dict[i] for i in images_nums}\n",
    "    utils.image_matrix(xs_dict_temp, x_hats_dict, celebA_utils.view_image, hparams, **kws)"
   ]
  },
  {
   "cell_type": "markdown",
   "metadata": {},
   "source": [
    "# Reconstruction"
   ]
  },
  {
   "cell_type": "code",
   "execution_count": null,
   "metadata": {
    "collapsed": false,
    "scrolled": false
   },
   "outputs": [],
   "source": [
    "hparams.measurement_type = 'gaussian'\n",
    "hparams.model_types = ['Lasso (DCT)', 'Lasso (Wavelet)', 'DCGAN']\n",
    "is_save = True\n",
    "\n",
    "for num_measurements in [50, 100, 200, 500, 1000, 2500, 5000, 7500, 10000]:\n",
    "    pattern1 = '../estimated/celebA/full-input/gaussian/0.01/' + str(num_measurements) + '/lasso-dct/0.1/{0}.png'\n",
    "    pattern2 = '../estimated/celebA/full-input/gaussian/0.01/' + str(num_measurements) + '/lasso-wavelet/1e-05/{0}.png'\n",
    "    pattern3 = '../estimated/celebA/full-input/gaussian/0.01/' + str(num_measurements) + '/dcgan/0.0_1.0_0.001_0.0_0.0_adam_0.1_0.9_False_500_10/{0}.png'\n",
    "    patterns = [pattern1, pattern2, pattern3]\n",
    "    view(patterns, images_nums, hparams)\n",
    "\n",
    "    base_path = '../results/celebA_reconstr_{}_orig_lasso-dct_lasso-wavelet_dcgan.pdf'\n",
    "    save_path = base_path.format(num_measurements)\n",
    "    utils.save_plot(is_save, save_path)"
   ]
  },
  {
   "cell_type": "markdown",
   "metadata": {},
   "source": [
    "# Supereresolution"
   ]
  },
  {
   "cell_type": "code",
   "execution_count": null,
   "metadata": {
    "collapsed": false
   },
   "outputs": [],
   "source": [
    "hparams.measurement_type = 'superres' \n",
    "hparams.superres_factor = 4\n",
    "hparams.model_types = ['DCGAN']\n",
    "is_save = True\n",
    "\n",
    "patterns = ['../estimated/celebA/full-input/superres/0.0/768/dcgan/0.0_1.0_0.0_0.0_0.0_adam_0.1_0.9_False_1000_2/{0}.png']\n",
    "view(patterns, images_nums, hparams)\n",
    "\n",
    "save_path = '../results/celebA_superres_orig_blurred_dcgan.pdf'\n",
    "utils.save_plot(is_save, save_path)"
   ]
  },
  {
   "cell_type": "markdown",
   "metadata": {},
   "source": [
    "# Projection distance"
   ]
  },
  {
   "cell_type": "code",
   "execution_count": null,
   "metadata": {
    "collapsed": false
   },
   "outputs": [],
   "source": [
    "hparams.measurement_type = '' \n",
    "hparams.superres_factor = 4\n",
    "hparams.model_types = ['DCGAN']\n",
    "is_save = True\n",
    "\n",
    "patterns = ['../estimated/celebA/full-input/inpaint/0.0/12288/dcgan/0.0_1.0_0.0_0.0_0.0_adam_0.1_0.9_False_1000_2/{0}.png']\n",
    "view(patterns, images_nums, hparams)\n",
    "\n",
    "save_path = '../results/celebA_projection_orig_dcgan.pdf'\n",
    "utils.save_plot(is_save, save_path)"
   ]
  }
 ],
 "metadata": {
  "kernelspec": {
   "display_name": "Python 2",
   "language": "python",
   "name": "python2"
  },
  "language_info": {
   "codemirror_mode": {
    "name": "ipython",
    "version": 2
   },
   "file_extension": ".py",
   "mimetype": "text/x-python",
   "name": "python",
   "nbconvert_exporter": "python",
   "pygments_lexer": "ipython2",
   "version": "2.7.11"
  }
 },
 "nbformat": 4,
 "nbformat_minor": 0
}
