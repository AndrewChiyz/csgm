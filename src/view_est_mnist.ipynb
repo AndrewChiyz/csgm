{
 "cells": [
  {
   "cell_type": "code",
   "execution_count": null,
   "metadata": {
    "collapsed": true
   },
   "outputs": [],
   "source": [
    "import pickle as pkl\n",
    "import numpy as np\n",
    "import glob\n",
    "\n",
    "import mnist_input\n",
    "import mnist_utils\n",
    "import utils\n",
    "\n",
    "import matplotlib.pyplot as plt\n",
    "%matplotlib inline\n",
    "from matplotlib.backends.backend_pdf import PdfPages"
   ]
  },
  {
   "cell_type": "code",
   "execution_count": null,
   "metadata": {
    "collapsed": true
   },
   "outputs": [],
   "source": [
    "class Hparams():\n",
    "    pass"
   ]
  },
  {
   "cell_type": "code",
   "execution_count": null,
   "metadata": {
    "collapsed": false
   },
   "outputs": [],
   "source": [
    "hparams = Hparams()\n",
    "hparams.input_type = 'full-input'\n",
    "hparams.num_input_images = 30\n",
    "hparams.image_matrix = 0\n",
    "hparams.image_shape = (28, 28, 1)\n",
    "hparams.n_input = np.prod(hparams.image_shape)\n",
    "\n",
    "xs_dict = mnist_input.model_input(hparams)"
   ]
  },
  {
   "cell_type": "code",
   "execution_count": null,
   "metadata": {
    "collapsed": false
   },
   "outputs": [],
   "source": [
    "start = 10\n",
    "stop = 20\n",
    "assert start >= 0\n",
    "assert stop <= hparams.num_input_images\n",
    "images_nums = list(range(start, stop))"
   ]
  },
  {
   "cell_type": "code",
   "execution_count": null,
   "metadata": {
    "collapsed": true
   },
   "outputs": [],
   "source": [
    "def view(patterns, images_nums, hparams, **kws):\n",
    "    x_hats_dict = {}\n",
    "    for model_type, pattern in zip(hparams.model_types, patterns):\n",
    "        outfiles = [pattern.format(i) for i in images_nums]\n",
    "        x_hats_dict[model_type] = {i: plt.imread(outfile) for i, outfile in enumerate(outfiles)}\n",
    "    xs_dict_temp = {i : xs_dict[i] for i in images_nums}\n",
    "    utils.image_matrix(xs_dict_temp, x_hats_dict, mnist_utils.view_image, hparams, **kws)"
   ]
  },
  {
   "cell_type": "markdown",
   "metadata": {},
   "source": [
    "# Reconstructions"
   ]
  },
  {
   "cell_type": "code",
   "execution_count": null,
   "metadata": {
    "collapsed": false,
    "scrolled": false
   },
   "outputs": [],
   "source": [
    "hparams.measurement_type = 'gaussian'\n",
    "hparams.model_types = ['Lasso', 'VAE']\n",
    "is_save = True\n",
    "\n",
    "for num_measurements in [10, 25, 50, 100, 200, 300, 400, 500]:\n",
    "    pattern1 = '../estimated/mnist/full-input/gaussian/0.1/' + str(num_measurements) + '/lasso/0.1/{0}.png'\n",
    "    pattern2 = '../estimated/mnist/full-input/gaussian/0.1/' + str(num_measurements) + '/vae/0.0_1.0_0.1_adam_0.01_0.9_False_1000_10/{0}.png'\n",
    "    patterns = [pattern1, pattern2]\n",
    "    view(patterns, images_nums, hparams, alg_labels=False)\n",
    "    \n",
    "    base_path = '../results/mnist_reconstr_{}_orig_lasso_vae.pdf'\n",
    "    save_path = base_path.format(num_measurements)\n",
    "    utils.save_plot(is_save, save_path)"
   ]
  },
  {
   "cell_type": "markdown",
   "metadata": {},
   "source": [
    "# Super-resolution"
   ]
  },
  {
   "cell_type": "code",
   "execution_count": null,
   "metadata": {
    "collapsed": false
   },
   "outputs": [],
   "source": [
    "hparams.measurement_type = 'superres'\n",
    "hparams.superres_factor = 2\n",
    "hparams.model_types = ['VAE']\n",
    "is_save = True\n",
    "\n",
    "patterns = ['../estimated/mnist/full-input/superres/0.1/196/vae/0.0_1.0_0.1_momentum_0.01_0.9_False_500_10/{0}.png']\n",
    "view(patterns, images_nums, hparams, alg_labels=False)\n",
    "\n",
    "save_path = '../results/mnist_superres_orig_blurred_vae.pdf'\n",
    "utils.save_plot(is_save, save_path)"
   ]
  },
  {
   "cell_type": "markdown",
   "metadata": {},
   "source": [
    "# Projection Distance"
   ]
  },
  {
   "cell_type": "code",
   "execution_count": null,
   "metadata": {
    "collapsed": false
   },
   "outputs": [],
   "source": [
    "hparams.measurement_type = ''\n",
    "hparams.model_types = ['VAE']\n",
    "is_save = True\n",
    "\n",
    "patterns = ['../estimated/mnist/full-input/inpaint/0.0/784/vae/0.0_1.0_0.0_adam_0.1_0.9_False_1000_10/{0}.png']\n",
    "view(patterns, images_nums, hparams, alg_labels=False)\n",
    "\n",
    "save_path = '../results/mnist_projection_orig_vae.pdf'\n",
    "utils.save_plot(is_save, save_path)"
   ]
  },
  {
   "cell_type": "markdown",
   "metadata": {},
   "source": [
    "# End-to-end"
   ]
  },
  {
   "cell_type": "code",
   "execution_count": null,
   "metadata": {
    "collapsed": false
   },
   "outputs": [],
   "source": [
    "hparams.measurement_type = 'fixed'\n",
    "is_save = True\n",
    "hparams.model_types = []\n",
    "patterns = []\n",
    "\n",
    "base_pattern = '../estimated/mnist/full-input/{0}/0.1/{1}/learned/50-200/{2}.png'\n",
    "for measurement_type in ['fixed', 'learned']:\n",
    "    for num_measurements in [10, 20, 30]:\n",
    "        hparams.model_types.append('{}{}'.format(measurement_type.title(), num_measurements))\n",
    "        patterns.append(base_pattern.format(measurement_type, num_measurements, '{0}'))\n",
    "\n",
    "view(patterns, images_nums, hparams, alg_labels=True)\n",
    "save_path = '../results/mnist_e2e_orig_fixed_learned.pdf'\n",
    "utils.save_plot(is_save, save_path)"
   ]
  },
  {
   "cell_type": "markdown",
   "metadata": {},
   "source": [
    "# Variation with noise"
   ]
  },
  {
   "cell_type": "code",
   "execution_count": null,
   "metadata": {
    "collapsed": false
   },
   "outputs": [],
   "source": [
    "hparams.measurement_type = ''\n",
    "hparams.model_types = ['Lasso', 'VAE']\n",
    "\n",
    "for noise_std in [0.1, 1.0, 10.0, 100.0, 1000.0]:\n",
    "    pattern1 = '../estimated/mnist/full-input/gaussian/' + str(noise_std) + '/100/lasso/0.1/{0}.png'\n",
    "    pattern2 = '../estimated/mnist/full-input/gaussian/' + str(noise_std) + '/100/vae/0.0_1.0_' + str(10*noise_std**2) + '_adam_0.01_0.9_False_1000_10/{0}.png'\n",
    "    patterns = [pattern1, pattern2]\n",
    "    view(patterns, images_nums, hparams, alg_labels=True)"
   ]
  }
 ],
 "metadata": {
  "kernelspec": {
   "display_name": "Python 2",
   "language": "python",
   "name": "python2"
  },
  "language_info": {
   "codemirror_mode": {
    "name": "ipython",
    "version": 2
   },
   "file_extension": ".py",
   "mimetype": "text/x-python",
   "name": "python",
   "nbconvert_exporter": "python",
   "pygments_lexer": "ipython2",
   "version": "2.7.11"
  }
 },
 "nbformat": 4,
 "nbformat_minor": 0
}
